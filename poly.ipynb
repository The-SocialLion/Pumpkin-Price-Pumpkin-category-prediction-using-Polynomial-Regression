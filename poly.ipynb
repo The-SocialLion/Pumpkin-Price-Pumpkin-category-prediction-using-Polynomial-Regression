{
  "nbformat": 4,
  "nbformat_minor": 0,
  "metadata": {
    "colab": {
      "name": "Untitled31.ipynb",
      "provenance": []
    },
    "kernelspec": {
      "name": "python3",
      "display_name": "Python 3"
    }
  },
  "cells": [
    {
      "cell_type": "code",
      "metadata": {
        "id": "UQt8zczVl8ch"
      },
      "source": [
        "import numpy as np\n",
        "import matplotlib.pyplot as plt\n",
        "import pandas as pd"
      ],
      "execution_count": 2,
      "outputs": []
    },
    {
      "cell_type": "code",
      "metadata": {
        "id": "xffjPi9Ul9Jq"
      },
      "source": [
        "dataset = pd.read_csv('atlanta_9-24-2016_9-30-2017.csv')\n",
        "dataset['Average Price']=((dataset['Low Price']+dataset['High Price'])/2)\n",
        "dataset=dataset.drop(columns=[ 'Commodity Name','City Name','Type','Sub Variety','Grade','Date','Low Price','High Price','Mostly Low','Mostly High','Origin District','Color','Environment','Unit of Sale','Quality','Condition','Appearance','Storage','Crop','Repack','Trans Mode'])\n",
        "dataset=dataset.dropna(how='any')\n",
        "y=dataset.iloc[:,-1].values\n",
        "X=dataset.iloc[:,:-1].values"
      ],
      "execution_count": 9,
      "outputs": []
    },
    {
      "cell_type": "code",
      "metadata": {
        "id": "lrOA8lhUmAak",
        "outputId": "12ba288e-30d0-47fc-c080-98863f42f6e6",
        "colab": {
          "base_uri": "https://localhost:8080/"
        }
      },
      "source": [
        "from sklearn.preprocessing import LabelEncoder\n",
        "le=LabelEncoder()\n",
        "X[:,0]=le.fit_transform(X[:,0])\n",
        "X[:,1]=le.fit_transform(X[:,1])\n",
        "X[:,2]=le.fit_transform(X[:,2])\n",
        "X[:,3]=le.fit_transform(X[:,3])\n",
        "print(X)"
      ],
      "execution_count": 10,
      "outputs": [
        {
          "output_type": "stream",
          "text": [
            "[[1 0 2 0]\n",
            " [1 0 2 5]\n",
            " [1 0 2 3]\n",
            " [1 0 2 4]\n",
            " [1 0 2 0]\n",
            " [1 0 2 5]\n",
            " [1 0 2 3]\n",
            " [1 0 2 4]\n",
            " [1 0 2 0]\n",
            " [1 0 2 5]\n",
            " [1 0 2 3]\n",
            " [1 0 2 4]\n",
            " [1 0 0 2]\n",
            " [1 0 2 0]\n",
            " [1 0 2 5]\n",
            " [1 0 2 3]\n",
            " [1 0 2 4]\n",
            " [1 0 0 2]\n",
            " [1 0 2 0]\n",
            " [1 0 2 5]\n",
            " [1 0 2 3]\n",
            " [1 0 2 4]\n",
            " [1 0 0 2]\n",
            " [1 0 2 0]\n",
            " [1 0 2 5]\n",
            " [1 0 2 3]\n",
            " [1 0 2 4]\n",
            " [1 0 0 2]\n",
            " [1 0 2 0]\n",
            " [1 0 2 5]\n",
            " [1 0 2 3]\n",
            " [1 0 2 4]\n",
            " [2 0 1 2]\n",
            " [2 0 2 1]\n",
            " [2 0 4 1]\n",
            " [0 1 2 4]\n",
            " [0 1 2 4]\n",
            " [0 1 2 4]\n",
            " [0 1 2 4]\n",
            " [1 1 3 4]\n",
            " [1 1 3 4]\n",
            " [1 1 3 4]\n",
            " [1 1 3 4]\n",
            " [1 1 3 4]\n",
            " [1 1 3 4]\n",
            " [1 1 3 4]\n",
            " [1 1 3 4]\n",
            " [1 1 3 4]\n",
            " [1 1 3 4]\n",
            " [2 1 2 4]\n",
            " [2 1 2 4]\n",
            " [2 1 2 4]\n",
            " [2 1 2 4]\n",
            " [2 1 2 4]\n",
            " [2 1 2 4]\n",
            " [2 1 2 4]]\n"
          ],
          "name": "stdout"
        }
      ]
    },
    {
      "cell_type": "code",
      "metadata": {
        "id": "uVW7gPD8nqBd",
        "outputId": "107dacb0-98b2-449e-afa3-fb566589c4c7",
        "colab": {
          "base_uri": "https://localhost:8080/"
        }
      },
      "source": [
        "print(y)"
      ],
      "execution_count": 11,
      "outputs": [
        {
          "output_type": "stream",
          "text": [
            "[147.375 149.875 152.375 150.    147.375 149.875 152.375 150.    147.375\n",
            " 149.875 152.375 150.    142.5   147.375 149.875 152.375 150.    142.5\n",
            " 147.375 149.875 152.375 150.    142.5   147.375 149.875 152.375 150.\n",
            " 142.5   147.375 149.875 152.375 150.    150.    142.5   140.     14.75\n",
            "  14.75   14.75   14.75  135.    135.    135.    135.    135.    135.\n",
            " 129.25  129.25  129.25  129.25  248.    248.    248.    248.    248.\n",
            " 248.    248.   ]\n"
          ],
          "name": "stdout"
        }
      ]
    },
    {
      "cell_type": "code",
      "metadata": {
        "id": "Pm7LTmpYnvTJ",
        "outputId": "dd0acc7d-c007-4cf4-f005-966f84289e2c",
        "colab": {
          "base_uri": "https://localhost:8080/"
        }
      },
      "source": [
        "y=y.reshape(len(y),1)\n",
        "print(y)"
      ],
      "execution_count": 12,
      "outputs": [
        {
          "output_type": "stream",
          "text": [
            "[[147.375]\n",
            " [149.875]\n",
            " [152.375]\n",
            " [150.   ]\n",
            " [147.375]\n",
            " [149.875]\n",
            " [152.375]\n",
            " [150.   ]\n",
            " [147.375]\n",
            " [149.875]\n",
            " [152.375]\n",
            " [150.   ]\n",
            " [142.5  ]\n",
            " [147.375]\n",
            " [149.875]\n",
            " [152.375]\n",
            " [150.   ]\n",
            " [142.5  ]\n",
            " [147.375]\n",
            " [149.875]\n",
            " [152.375]\n",
            " [150.   ]\n",
            " [142.5  ]\n",
            " [147.375]\n",
            " [149.875]\n",
            " [152.375]\n",
            " [150.   ]\n",
            " [142.5  ]\n",
            " [147.375]\n",
            " [149.875]\n",
            " [152.375]\n",
            " [150.   ]\n",
            " [150.   ]\n",
            " [142.5  ]\n",
            " [140.   ]\n",
            " [ 14.75 ]\n",
            " [ 14.75 ]\n",
            " [ 14.75 ]\n",
            " [ 14.75 ]\n",
            " [135.   ]\n",
            " [135.   ]\n",
            " [135.   ]\n",
            " [135.   ]\n",
            " [135.   ]\n",
            " [135.   ]\n",
            " [129.25 ]\n",
            " [129.25 ]\n",
            " [129.25 ]\n",
            " [129.25 ]\n",
            " [248.   ]\n",
            " [248.   ]\n",
            " [248.   ]\n",
            " [248.   ]\n",
            " [248.   ]\n",
            " [248.   ]\n",
            " [248.   ]]\n"
          ],
          "name": "stdout"
        }
      ]
    },
    {
      "cell_type": "code",
      "metadata": {
        "id": "cESsh4ssnz1c"
      },
      "source": [
        "from sklearn.model_selection import train_test_split\n",
        "X_train, X_test, y_train, y_test = train_test_split(X, y, test_size = 0.2, random_state = 1)"
      ],
      "execution_count": 13,
      "outputs": []
    },
    {
      "cell_type": "code",
      "metadata": {
        "id": "5RHcLTihn42B",
        "outputId": "7ca73eb2-7bd8-4d6c-dbdb-5a82ac8d40cb",
        "colab": {
          "base_uri": "https://localhost:8080/"
        }
      },
      "source": [
        "from sklearn.preprocessing import PolynomialFeatures\n",
        "from sklearn.linear_model import LinearRegression\n",
        "poly_reg = PolynomialFeatures(degree = 9)\n",
        "X_train = poly_reg.fit_transform(X_train)\n",
        "X_test = poly_reg.fit_transform(X_test)\n",
        "lin_reg_2 = LinearRegression()\n",
        "lin_reg_2.fit(X_train, y_train)"
      ],
      "execution_count": 14,
      "outputs": [
        {
          "output_type": "execute_result",
          "data": {
            "text/plain": [
              "LinearRegression(copy_X=True, fit_intercept=True, n_jobs=None, normalize=False)"
            ]
          },
          "metadata": {
            "tags": []
          },
          "execution_count": 14
        }
      ]
    },
    {
      "cell_type": "code",
      "metadata": {
        "id": "d54r7z6nn9nN",
        "outputId": "443b9dcc-bfb8-40fc-c76f-4c13725f7a86",
        "colab": {
          "base_uri": "https://localhost:8080/"
        }
      },
      "source": [
        "y_pred =lin_reg_2.predict(X_test)\n",
        "np.set_printoptions(precision=2)\n",
        "print(np.concatenate((y_pred.reshape(len(y_pred),1), y_test.reshape(len(y_test),1)),1))"
      ],
      "execution_count": 15,
      "outputs": [
        {
          "output_type": "stream",
          "text": [
            "[[132.7  135.  ]\n",
            " [152.38 152.38]\n",
            " [132.7  129.25]\n",
            " [149.87 149.88]\n",
            " [145.51 150.  ]\n",
            " [147.3  142.5 ]\n",
            " [ 14.75  14.75]\n",
            " [132.7  135.  ]\n",
            " [248.   248.  ]\n",
            " [132.7  135.  ]\n",
            " [132.7  129.25]\n",
            " [150.   150.  ]]\n"
          ],
          "name": "stdout"
        }
      ]
    },
    {
      "cell_type": "markdown",
      "metadata": {
        "id": "O456HFidpIq2"
      },
      "source": [
        "Note: this is one way of implmenting the algorithm based on the size and other features now let us try the reverse method  and see if it performs as expected"
      ]
    },
    {
      "cell_type": "code",
      "metadata": {
        "id": "6LWqg3yyp4Jc"
      },
      "source": [
        "dataset = pd.read_csv('atlanta_9-24-2016_9-30-2017.csv')\n",
        "dataset['Average Price']=((dataset['Low Price']+dataset['High Price'])/2)\n",
        "dataset['Size']=dataset['Item Size']#making anew column size as the last column so that preprocessing would be easy\n",
        "dataset=dataset.drop(columns=[ 'Item Size','Commodity Name','City Name','Type','Sub Variety','Grade','Date','Low Price','High Price','Mostly Low','Mostly High','Origin District','Color','Environment','Unit of Sale','Quality','Condition','Appearance','Storage','Crop','Repack','Trans Mode'])\n",
        "dataset=dataset.dropna(how='any')\n",
        "X=dataset.iloc[:,:-1].values\n",
        "y=dataset.iloc[:,-1].values\n"
      ],
      "execution_count": null,
      "outputs": []
    },
    {
      "cell_type": "code",
      "metadata": {
        "id": "4B3gPxisqOOT",
        "outputId": "91316219-7f92-460e-d214-bd6fbbc95a7a",
        "colab": {
          "base_uri": "https://localhost:8080/"
        }
      },
      "source": [
        "from sklearn.preprocessing import LabelEncoder\n",
        "le=LabelEncoder()\n",
        "X[:,0]=le.fit_transform(X[:,0])\n",
        "X[:,1]=le.fit_transform(X[:,1])\n",
        "X[:,2]=le.fit_transform(X[:,2])\n",
        "y=le.fit_transform(y)\n",
        "print(X)"
      ],
      "execution_count": 27,
      "outputs": [
        {
          "output_type": "stream",
          "text": [
            "[[1 0 2 147.375]\n",
            " [1 0 2 149.875]\n",
            " [1 0 2 152.375]\n",
            " [1 0 2 150.0]\n",
            " [1 0 2 147.375]\n",
            " [1 0 2 149.875]\n",
            " [1 0 2 152.375]\n",
            " [1 0 2 150.0]\n",
            " [1 0 2 147.375]\n",
            " [1 0 2 149.875]\n",
            " [1 0 2 152.375]\n",
            " [1 0 2 150.0]\n",
            " [1 0 0 142.5]\n",
            " [1 0 2 147.375]\n",
            " [1 0 2 149.875]\n",
            " [1 0 2 152.375]\n",
            " [1 0 2 150.0]\n",
            " [1 0 0 142.5]\n",
            " [1 0 2 147.375]\n",
            " [1 0 2 149.875]\n",
            " [1 0 2 152.375]\n",
            " [1 0 2 150.0]\n",
            " [1 0 0 142.5]\n",
            " [1 0 2 147.375]\n",
            " [1 0 2 149.875]\n",
            " [1 0 2 152.375]\n",
            " [1 0 2 150.0]\n",
            " [1 0 0 142.5]\n",
            " [1 0 2 147.375]\n",
            " [1 0 2 149.875]\n",
            " [1 0 2 152.375]\n",
            " [1 0 2 150.0]\n",
            " [2 0 1 150.0]\n",
            " [2 0 2 142.5]\n",
            " [2 0 4 140.0]\n",
            " [0 1 2 14.75]\n",
            " [0 1 2 14.75]\n",
            " [0 1 2 14.75]\n",
            " [0 1 2 14.75]\n",
            " [1 1 3 135.0]\n",
            " [1 1 3 135.0]\n",
            " [1 1 3 135.0]\n",
            " [1 1 3 135.0]\n",
            " [1 1 3 135.0]\n",
            " [1 1 3 135.0]\n",
            " [1 1 3 129.25]\n",
            " [1 1 3 129.25]\n",
            " [1 1 3 129.25]\n",
            " [1 1 3 129.25]\n",
            " [2 1 2 248.0]\n",
            " [2 1 2 248.0]\n",
            " [2 1 2 248.0]\n",
            " [2 1 2 248.0]\n",
            " [2 1 2 248.0]\n",
            " [2 1 2 248.0]\n",
            " [2 1 2 248.0]]\n"
          ],
          "name": "stdout"
        }
      ]
    },
    {
      "cell_type": "code",
      "metadata": {
        "id": "UD70FYx8rpyv",
        "outputId": "ce2ba5b0-bbf4-41a8-b2c0-b3e6c34b069e",
        "colab": {
          "base_uri": "https://localhost:8080/"
        }
      },
      "source": [
        "print(y)"
      ],
      "execution_count": 28,
      "outputs": [
        {
          "output_type": "stream",
          "text": [
            "[0 5 3 4 0 5 3 4 0 5 3 4 2 0 5 3 4 2 0 5 3 4 2 0 5 3 4 2 0 5 3 4 2 1 1 4 4\n",
            " 4 4 4 4 4 4 4 4 4 4 4 4 4 4 4 4 4 4 4]\n"
          ],
          "name": "stdout"
        }
      ]
    },
    {
      "cell_type": "code",
      "metadata": {
        "id": "fNdarxd4rsZj",
        "outputId": "9e2b26e6-d17a-462d-d67a-d3112424bb83",
        "colab": {
          "base_uri": "https://localhost:8080/"
        }
      },
      "source": [
        "y=y.reshape(len(y),1)\n",
        "print(y)"
      ],
      "execution_count": 29,
      "outputs": [
        {
          "output_type": "stream",
          "text": [
            "[[0]\n",
            " [5]\n",
            " [3]\n",
            " [4]\n",
            " [0]\n",
            " [5]\n",
            " [3]\n",
            " [4]\n",
            " [0]\n",
            " [5]\n",
            " [3]\n",
            " [4]\n",
            " [2]\n",
            " [0]\n",
            " [5]\n",
            " [3]\n",
            " [4]\n",
            " [2]\n",
            " [0]\n",
            " [5]\n",
            " [3]\n",
            " [4]\n",
            " [2]\n",
            " [0]\n",
            " [5]\n",
            " [3]\n",
            " [4]\n",
            " [2]\n",
            " [0]\n",
            " [5]\n",
            " [3]\n",
            " [4]\n",
            " [2]\n",
            " [1]\n",
            " [1]\n",
            " [4]\n",
            " [4]\n",
            " [4]\n",
            " [4]\n",
            " [4]\n",
            " [4]\n",
            " [4]\n",
            " [4]\n",
            " [4]\n",
            " [4]\n",
            " [4]\n",
            " [4]\n",
            " [4]\n",
            " [4]\n",
            " [4]\n",
            " [4]\n",
            " [4]\n",
            " [4]\n",
            " [4]\n",
            " [4]\n",
            " [4]]\n"
          ],
          "name": "stdout"
        }
      ]
    },
    {
      "cell_type": "code",
      "metadata": {
        "id": "848dKQSQryZA"
      },
      "source": [
        "from sklearn.model_selection import train_test_split\n",
        "X_train, X_test, y_train, y_test = train_test_split(X, y, test_size = 0.2, random_state = 1)"
      ],
      "execution_count": 30,
      "outputs": []
    },
    {
      "cell_type": "code",
      "metadata": {
        "id": "InDTaoa5r2I-",
        "outputId": "83e6e820-a2e6-4601-dca5-2e5415c10f01",
        "colab": {
          "base_uri": "https://localhost:8080/"
        }
      },
      "source": [
        "from sklearn.preprocessing import PolynomialFeatures\n",
        "from sklearn.linear_model import LinearRegression\n",
        "poly_reg = PolynomialFeatures(degree = 9)\n",
        "X_train = poly_reg.fit_transform(X_train)\n",
        "X_test = poly_reg.fit_transform(X_test)\n",
        "lin_reg_2 = LinearRegression()\n",
        "lin_reg_2.fit(X_train, y_train)"
      ],
      "execution_count": 31,
      "outputs": [
        {
          "output_type": "execute_result",
          "data": {
            "text/plain": [
              "LinearRegression(copy_X=True, fit_intercept=True, n_jobs=None, normalize=False)"
            ]
          },
          "metadata": {
            "tags": []
          },
          "execution_count": 31
        }
      ]
    },
    {
      "cell_type": "code",
      "metadata": {
        "id": "_0bJtmc6r438",
        "outputId": "352d0765-8fb3-4889-e327-f292d4a5c50d",
        "colab": {
          "base_uri": "https://localhost:8080/"
        }
      },
      "source": [
        "y_pred =lin_reg_2.predict(X_test)\n",
        "np.set_printoptions(precision=2)\n",
        "print(np.concatenate((y_pred.reshape(len(y_pred),1), y_test.reshape(len(y_test),1)),1))"
      ],
      "execution_count": 32,
      "outputs": [
        {
          "output_type": "stream",
          "text": [
            "[[4.00e+00 4.00e+00]\n",
            " [3.00e+00 3.00e+00]\n",
            " [4.00e+00 4.00e+00]\n",
            " [5.00e+00 5.00e+00]\n",
            " [2.09e+06 2.00e+00]\n",
            " [1.88e+06 1.00e+00]\n",
            " [4.00e+00 4.00e+00]\n",
            " [4.00e+00 4.00e+00]\n",
            " [4.00e+00 4.00e+00]\n",
            " [4.00e+00 4.00e+00]\n",
            " [4.00e+00 4.00e+00]\n",
            " [4.00e+00 4.00e+00]]\n"
          ],
          "name": "stdout"
        }
      ]
    }
  ]
}